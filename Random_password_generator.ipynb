{
  "nbformat": 4,
  "nbformat_minor": 0,
  "metadata": {
    "colab": {
      "provenance": [],
      "authorship_tag": "ABX9TyM0B1y3rb+jA2L7kpJScJGM",
      "include_colab_link": true
    },
    "kernelspec": {
      "name": "python3",
      "display_name": "Python 3"
    },
    "language_info": {
      "name": "python"
    }
  },
  "cells": [
    {
      "cell_type": "markdown",
      "metadata": {
        "id": "view-in-github",
        "colab_type": "text"
      },
      "source": [
        "<a href=\"https://colab.research.google.com/github/swathiramu/Random-password-generator/blob/main/Random_password_generator.ipynb\" target=\"_parent\"><img src=\"https://colab.research.google.com/assets/colab-badge.svg\" alt=\"Open In Colab\"/></a>"
      ]
    },
    {
      "cell_type": "code",
      "execution_count": 7,
      "metadata": {
        "colab": {
          "base_uri": "https://localhost:8080/"
        },
        "id": "jjkkVKgNnN2y",
        "outputId": "37bf2023-ebdc-4e8d-e6c2-16ac8faa6266"
      },
      "outputs": [
        {
          "output_type": "stream",
          "name": "stdout",
          "text": [
            "Welcome to random password generator!\n",
            "Please enter the number of passwords to be generated: 8\n",
            "Please enter the length of passwords needed: 10\n",
            "Here are your randome passwords:\n",
            "UXtcss3twP\n",
            "ZkiWDiCq^5\n",
            "Zi1iIR&jyR\n",
            "W!rh9rqG9N\n",
            "80fC3tGB2z\n",
            "lMM03XZI6&\n",
            "#t$5ilV!Yp\n",
            "7cy%gp6A#V\n"
          ]
        }
      ],
      "source": [
        "#Random password generator\n",
        "import random\n",
        "print(\"Welcome to random password generator!\")\n",
        "randomechars = \"ABCDEFGHIJKLMNOPQRSTUVWXYZabcdefghijklmnopqrstuvwxyz1234567890!@#$%^&\"\n",
        "nbrofpwds = int(input(\"Please enter the number of passwords to be generated: \"))\n",
        "pwdlen = int(input(\"Please enter the length of passwords needed: \"))\n",
        "\n",
        "print(\"Here are your randome passwords:\")\n",
        "for x in range(nbrofpwds):\n",
        "  pwd = \"\"\n",
        "  for chars in range(pwdlen):\n",
        "    pwd = pwd + random.choice(randomechars)\n",
        "  print(pwd)"
      ]
    }
  ]
}